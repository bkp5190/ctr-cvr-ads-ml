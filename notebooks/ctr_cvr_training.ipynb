{
 "cells": [
  {
   "cell_type": "markdown",
   "id": "587b46d7",
   "metadata": {},
   "source": [
    "# 📈 CTR/CVR Modeling for Meal Ads\n",
    "\n",
    "This notebook trains models to predict Click-Through Rate (CTR) and Conversion Rate (CVR) using simulated food ad interaction data."
   ]
  },
  {
   "cell_type": "code",
   "id": "31e26365",
   "metadata": {
    "ExecuteTime": {
     "end_time": "2025-07-08T22:20:06.893389Z",
     "start_time": "2025-07-08T22:20:06.881667Z"
    }
   },
   "source": [
    "import pandas as pd\n",
    "\n",
    "# Load data\n",
    "meals = pd.read_csv(\"../data/meals.csv\")\n",
    "interactions = pd.read_csv(\"../data/interactions.csv\")\n",
    "\n",
    "print(\"Meals shape:\", meals.shape)\n",
    "print(\"Interactions shape:\", interactions.shape)\n",
    "\n",
    "interactions.head()"
   ],
   "outputs": [
    {
     "name": "stdout",
     "output_type": "stream",
     "text": [
      "Meals shape: (20, 6)\n",
      "Interactions shape: (300, 6)\n"
     ]
    },
    {
     "data": {
      "text/plain": [
       "   user_id  meal_id category   price  clicked  purchased\n",
       "0  user_37       20  Dessert   56.21        1          0\n",
       "1  user_36        5    Pizza   44.04        1          0\n",
       "2  user_48       13    Cajun  104.92        1          0\n",
       "3  user_36        2    Cajun  115.56        1          0\n",
       "4  user_31        5    Pizza   44.04        0          0"
      ],
      "text/html": [
       "<div>\n",
       "<style scoped>\n",
       "    .dataframe tbody tr th:only-of-type {\n",
       "        vertical-align: middle;\n",
       "    }\n",
       "\n",
       "    .dataframe tbody tr th {\n",
       "        vertical-align: top;\n",
       "    }\n",
       "\n",
       "    .dataframe thead th {\n",
       "        text-align: right;\n",
       "    }\n",
       "</style>\n",
       "<table border=\"1\" class=\"dataframe\">\n",
       "  <thead>\n",
       "    <tr style=\"text-align: right;\">\n",
       "      <th></th>\n",
       "      <th>user_id</th>\n",
       "      <th>meal_id</th>\n",
       "      <th>category</th>\n",
       "      <th>price</th>\n",
       "      <th>clicked</th>\n",
       "      <th>purchased</th>\n",
       "    </tr>\n",
       "  </thead>\n",
       "  <tbody>\n",
       "    <tr>\n",
       "      <th>0</th>\n",
       "      <td>user_37</td>\n",
       "      <td>20</td>\n",
       "      <td>Dessert</td>\n",
       "      <td>56.21</td>\n",
       "      <td>1</td>\n",
       "      <td>0</td>\n",
       "    </tr>\n",
       "    <tr>\n",
       "      <th>1</th>\n",
       "      <td>user_36</td>\n",
       "      <td>5</td>\n",
       "      <td>Pizza</td>\n",
       "      <td>44.04</td>\n",
       "      <td>1</td>\n",
       "      <td>0</td>\n",
       "    </tr>\n",
       "    <tr>\n",
       "      <th>2</th>\n",
       "      <td>user_48</td>\n",
       "      <td>13</td>\n",
       "      <td>Cajun</td>\n",
       "      <td>104.92</td>\n",
       "      <td>1</td>\n",
       "      <td>0</td>\n",
       "    </tr>\n",
       "    <tr>\n",
       "      <th>3</th>\n",
       "      <td>user_36</td>\n",
       "      <td>2</td>\n",
       "      <td>Cajun</td>\n",
       "      <td>115.56</td>\n",
       "      <td>1</td>\n",
       "      <td>0</td>\n",
       "    </tr>\n",
       "    <tr>\n",
       "      <th>4</th>\n",
       "      <td>user_31</td>\n",
       "      <td>5</td>\n",
       "      <td>Pizza</td>\n",
       "      <td>44.04</td>\n",
       "      <td>0</td>\n",
       "      <td>0</td>\n",
       "    </tr>\n",
       "  </tbody>\n",
       "</table>\n",
       "</div>"
      ]
     },
     "execution_count": 2,
     "metadata": {},
     "output_type": "execute_result"
    }
   ],
   "execution_count": 2
  },
  {
   "cell_type": "code",
   "id": "cd8c4d01",
   "metadata": {
    "ExecuteTime": {
     "end_time": "2025-07-08T22:20:09.784677Z",
     "start_time": "2025-07-08T22:20:09.772734Z"
    }
   },
   "source": [
    "# Merge meal features into interactions\n",
    "# TODO: Clean this up to not duplicate categories, prices, etc.\n",
    "data = interactions.merge(meals, on=\"meal_id\", how=\"left\")\n",
    "data.head()"
   ],
   "outputs": [
    {
     "data": {
      "text/plain": [
       "   user_id  meal_id category_x  price_x  clicked  purchased  \\\n",
       "0  user_37       20    Dessert    56.21        1          0   \n",
       "1  user_36        5      Pizza    44.04        1          0   \n",
       "2  user_48       13      Cajun   104.92        1          0   \n",
       "3  user_36        2      Cajun   115.56        1          0   \n",
       "4  user_31        5      Pizza    44.04        0          0   \n",
       "\n",
       "                     title category_y  price_y  rating    restaurant  \n",
       "0          Falafel Platter    Dessert    56.21     4.4  Restaurant T  \n",
       "1  Chicago Deep Dish Pizza      Pizza    44.04     4.5  Restaurant E  \n",
       "2          Sourdough Bread      Cajun   104.92     4.1  Restaurant M  \n",
       "3            Vegan Lasagna      Cajun   115.56     4.1  Restaurant B  \n",
       "4  Chicago Deep Dish Pizza      Pizza    44.04     4.5  Restaurant E  "
      ],
      "text/html": [
       "<div>\n",
       "<style scoped>\n",
       "    .dataframe tbody tr th:only-of-type {\n",
       "        vertical-align: middle;\n",
       "    }\n",
       "\n",
       "    .dataframe tbody tr th {\n",
       "        vertical-align: top;\n",
       "    }\n",
       "\n",
       "    .dataframe thead th {\n",
       "        text-align: right;\n",
       "    }\n",
       "</style>\n",
       "<table border=\"1\" class=\"dataframe\">\n",
       "  <thead>\n",
       "    <tr style=\"text-align: right;\">\n",
       "      <th></th>\n",
       "      <th>user_id</th>\n",
       "      <th>meal_id</th>\n",
       "      <th>category_x</th>\n",
       "      <th>price_x</th>\n",
       "      <th>clicked</th>\n",
       "      <th>purchased</th>\n",
       "      <th>title</th>\n",
       "      <th>category_y</th>\n",
       "      <th>price_y</th>\n",
       "      <th>rating</th>\n",
       "      <th>restaurant</th>\n",
       "    </tr>\n",
       "  </thead>\n",
       "  <tbody>\n",
       "    <tr>\n",
       "      <th>0</th>\n",
       "      <td>user_37</td>\n",
       "      <td>20</td>\n",
       "      <td>Dessert</td>\n",
       "      <td>56.21</td>\n",
       "      <td>1</td>\n",
       "      <td>0</td>\n",
       "      <td>Falafel Platter</td>\n",
       "      <td>Dessert</td>\n",
       "      <td>56.21</td>\n",
       "      <td>4.4</td>\n",
       "      <td>Restaurant T</td>\n",
       "    </tr>\n",
       "    <tr>\n",
       "      <th>1</th>\n",
       "      <td>user_36</td>\n",
       "      <td>5</td>\n",
       "      <td>Pizza</td>\n",
       "      <td>44.04</td>\n",
       "      <td>1</td>\n",
       "      <td>0</td>\n",
       "      <td>Chicago Deep Dish Pizza</td>\n",
       "      <td>Pizza</td>\n",
       "      <td>44.04</td>\n",
       "      <td>4.5</td>\n",
       "      <td>Restaurant E</td>\n",
       "    </tr>\n",
       "    <tr>\n",
       "      <th>2</th>\n",
       "      <td>user_48</td>\n",
       "      <td>13</td>\n",
       "      <td>Cajun</td>\n",
       "      <td>104.92</td>\n",
       "      <td>1</td>\n",
       "      <td>0</td>\n",
       "      <td>Sourdough Bread</td>\n",
       "      <td>Cajun</td>\n",
       "      <td>104.92</td>\n",
       "      <td>4.1</td>\n",
       "      <td>Restaurant M</td>\n",
       "    </tr>\n",
       "    <tr>\n",
       "      <th>3</th>\n",
       "      <td>user_36</td>\n",
       "      <td>2</td>\n",
       "      <td>Cajun</td>\n",
       "      <td>115.56</td>\n",
       "      <td>1</td>\n",
       "      <td>0</td>\n",
       "      <td>Vegan Lasagna</td>\n",
       "      <td>Cajun</td>\n",
       "      <td>115.56</td>\n",
       "      <td>4.1</td>\n",
       "      <td>Restaurant B</td>\n",
       "    </tr>\n",
       "    <tr>\n",
       "      <th>4</th>\n",
       "      <td>user_31</td>\n",
       "      <td>5</td>\n",
       "      <td>Pizza</td>\n",
       "      <td>44.04</td>\n",
       "      <td>0</td>\n",
       "      <td>0</td>\n",
       "      <td>Chicago Deep Dish Pizza</td>\n",
       "      <td>Pizza</td>\n",
       "      <td>44.04</td>\n",
       "      <td>4.5</td>\n",
       "      <td>Restaurant E</td>\n",
       "    </tr>\n",
       "  </tbody>\n",
       "</table>\n",
       "</div>"
      ]
     },
     "execution_count": 3,
     "metadata": {},
     "output_type": "execute_result"
    }
   ],
   "execution_count": 3
  },
  {
   "cell_type": "code",
   "id": "88e3b134",
   "metadata": {
    "ExecuteTime": {
     "end_time": "2025-07-08T22:21:36.311820Z",
     "start_time": "2025-07-08T22:21:36.308983Z"
    }
   },
   "source": [
    "# Simple feature engineering\n",
    "from sklearn.preprocessing import LabelEncoder\n",
    "\n",
    "le = LabelEncoder()\n",
    "data['category_encoded'] = le.fit_transform(data['category_x'])\n",
    "\n",
    "# Features for both CTR and CVR\n",
    "features = [\"price_x\", \"rating\", \"category_encoded\"]\n"
   ],
   "outputs": [],
   "execution_count": 8
  },
  {
   "cell_type": "code",
   "id": "b3680f81",
   "metadata": {
    "ExecuteTime": {
     "end_time": "2025-07-08T22:21:37.520623Z",
     "start_time": "2025-07-08T22:21:37.516004Z"
    }
   },
   "source": [
    "from sklearn.model_selection import train_test_split\n",
    "\n",
    "# CTR: all rows\n",
    "X_ctr = data[features]\n",
    "y_ctr = data[\"clicked\"]\n",
    "X_train_ctr, X_test_ctr, y_train_ctr, y_test_ctr = train_test_split(X_ctr, y_ctr, test_size=0.2, random_state=42)\n"
   ],
   "outputs": [],
   "execution_count": 9
  },
  {
   "cell_type": "code",
   "id": "2251c147",
   "metadata": {
    "ExecuteTime": {
     "end_time": "2025-07-08T22:21:39.217245Z",
     "start_time": "2025-07-08T22:21:39.094382Z"
    }
   },
   "source": [
    "from sklearn.ensemble import GradientBoostingClassifier\n",
    "from sklearn.metrics import roc_auc_score\n",
    "\n",
    "ctr_model = GradientBoostingClassifier()\n",
    "ctr_model.fit(X_train_ctr, y_train_ctr)\n",
    "\n",
    "ctr_preds = ctr_model.predict_proba(X_test_ctr)[:, 1]\n",
    "ctr_auc = roc_auc_score(y_test_ctr, ctr_preds)\n",
    "print(f\"CTR AUC: {ctr_auc:.4f}\")\n"
   ],
   "outputs": [
    {
     "name": "stdout",
     "output_type": "stream",
     "text": [
      "CTR AUC: 0.4188\n"
     ]
    }
   ],
   "execution_count": 10
  },
  {
   "cell_type": "code",
   "id": "04858e04",
   "metadata": {
    "ExecuteTime": {
     "end_time": "2025-07-08T22:21:41.856591Z",
     "start_time": "2025-07-08T22:21:41.851485Z"
    }
   },
   "source": [
    "# CVR: only rows where clicked == 1\n",
    "data_cvr = data[data[\"clicked\"] == 1]\n",
    "X_cvr = data_cvr[features]\n",
    "y_cvr = data_cvr[\"purchased\"]\n",
    "X_train_cvr, X_test_cvr, y_train_cvr, y_test_cvr = train_test_split(X_cvr, y_cvr, test_size=0.2, random_state=42)\n"
   ],
   "outputs": [],
   "execution_count": 11
  },
  {
   "cell_type": "code",
   "id": "1bb2a270",
   "metadata": {
    "ExecuteTime": {
     "end_time": "2025-07-08T22:21:43.713824Z",
     "start_time": "2025-07-08T22:21:43.683835Z"
    }
   },
   "source": [
    "cvr_model = GradientBoostingClassifier()\n",
    "cvr_model.fit(X_train_cvr, y_train_cvr)\n",
    "\n",
    "cvr_preds = cvr_model.predict_proba(X_test_cvr)[:, 1]\n",
    "cvr_auc = roc_auc_score(y_test_cvr, cvr_preds)\n",
    "print(f\"CVR AUC: {cvr_auc:.4f}\")\n"
   ],
   "outputs": [
    {
     "name": "stdout",
     "output_type": "stream",
     "text": [
      "CVR AUC: 0.6641\n"
     ]
    }
   ],
   "execution_count": 12
  },
  {
   "cell_type": "code",
   "id": "973eeb86",
   "metadata": {
    "ExecuteTime": {
     "end_time": "2025-07-08T22:21:49.115648Z",
     "start_time": "2025-07-08T22:21:49.105723Z"
    }
   },
   "source": [
    "import joblib\n",
    "\n",
    "# Save models for inference on the streamlit application\n",
    "joblib.dump(ctr_model, \"../models/ctr_model.pkl\")\n",
    "joblib.dump(cvr_model, \"../models/cvr_model.pkl\")\n",
    "print(\"Models saved.\")\n"
   ],
   "outputs": [
    {
     "name": "stdout",
     "output_type": "stream",
     "text": [
      "Models saved.\n"
     ]
    }
   ],
   "execution_count": 13
  }
 ],
 "metadata": {
  "kernelspec": {
   "name": "python3",
   "language": "python",
   "display_name": "Python 3 (ipykernel)"
  }
 },
 "nbformat": 4,
 "nbformat_minor": 5
}
